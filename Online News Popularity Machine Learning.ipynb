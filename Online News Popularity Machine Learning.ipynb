{
 "cells": [
  {
   "cell_type": "markdown",
   "metadata": {},
   "source": [
    "# Predict the Online News Popularity"
   ]
  },
  {
   "cell_type": "code",
   "execution_count": 1,
   "metadata": {},
   "outputs": [],
   "source": [
    "import pandas as pd\n",
    "import matplotlib.pyplot as plt\n",
    "import numpy as np"
   ]
  },
  {
   "cell_type": "markdown",
   "metadata": {},
   "source": [
    "## Dataset Preparation"
   ]
  },
  {
   "cell_type": "code",
   "execution_count": 2,
   "metadata": {},
   "outputs": [],
   "source": [
    "df = pd.read_csv(\"OnlineNewsPopularity-clean.csv\")"
   ]
  },
  {
   "cell_type": "code",
   "execution_count": 3,
   "metadata": {},
   "outputs": [
    {
     "name": "stdout",
     "output_type": "stream",
     "text": [
      "<class 'pandas.core.frame.DataFrame'>\n",
      "RangeIndex: 39626 entries, 0 to 39625\n",
      "Data columns (total 64 columns):\n",
      "Unnamed: 0                       39626 non-null int64\n",
      "url                              39626 non-null object\n",
      "timedelta                        39626 non-null float64\n",
      "n_tokens_title                   39626 non-null float64\n",
      "n_tokens_content                 39626 non-null float64\n",
      "n_unique_tokens                  39626 non-null float64\n",
      "n_non_stop_words                 39626 non-null float64\n",
      "n_non_stop_unique_tokens         39626 non-null float64\n",
      "num_hrefs                        39626 non-null float64\n",
      "num_self_hrefs                   39626 non-null float64\n",
      "num_imgs                         39626 non-null float64\n",
      "num_videos                       39626 non-null float64\n",
      "average_token_length             39626 non-null float64\n",
      "num_keywords                     39626 non-null float64\n",
      "data_channel_is_lifestyle        39626 non-null float64\n",
      "data_channel_is_entertainment    39626 non-null float64\n",
      "data_channel_is_bus              39626 non-null float64\n",
      "data_channel_is_socmed           39626 non-null float64\n",
      "data_channel_is_tech             39626 non-null float64\n",
      "data_channel_is_world            39626 non-null float64\n",
      "kw_min_min                       39626 non-null float64\n",
      "kw_max_min                       39626 non-null float64\n",
      "kw_avg_min                       39626 non-null float64\n",
      "kw_min_max                       39626 non-null float64\n",
      "kw_max_max                       39626 non-null float64\n",
      "kw_avg_max                       39626 non-null float64\n",
      "kw_min_avg                       39626 non-null float64\n",
      "kw_max_avg                       39626 non-null float64\n",
      "kw_avg_avg                       39626 non-null float64\n",
      "self_reference_min_shares        39626 non-null float64\n",
      "self_reference_max_shares        39626 non-null float64\n",
      "self_reference_avg_sharess       39626 non-null float64\n",
      "weekday_is_monday                39626 non-null float64\n",
      "weekday_is_tuesday               39626 non-null float64\n",
      "weekday_is_wednesday             39626 non-null float64\n",
      "weekday_is_thursday              39626 non-null float64\n",
      "weekday_is_friday                39626 non-null float64\n",
      "weekday_is_saturday              39626 non-null float64\n",
      "weekday_is_sunday                39626 non-null float64\n",
      "is_weekend                       39626 non-null float64\n",
      "LDA_00                           39626 non-null float64\n",
      "LDA_01                           39626 non-null float64\n",
      "LDA_02                           39626 non-null float64\n",
      "LDA_03                           39626 non-null float64\n",
      "LDA_04                           39626 non-null float64\n",
      "global_subjectivity              39626 non-null float64\n",
      "global_sentiment_polarity        39626 non-null float64\n",
      "global_rate_positive_words       39626 non-null float64\n",
      "global_rate_negative_words       39626 non-null float64\n",
      "rate_positive_words              39626 non-null float64\n",
      "rate_negative_words              39626 non-null float64\n",
      "avg_positive_polarity            39626 non-null float64\n",
      "min_positive_polarity            39626 non-null float64\n",
      "max_positive_polarity            39626 non-null float64\n",
      "avg_negative_polarity            39626 non-null float64\n",
      "min_negative_polarity            39626 non-null float64\n",
      "max_negative_polarity            39626 non-null float64\n",
      "title_subjectivity               39626 non-null float64\n",
      "title_sentiment_polarity         39626 non-null float64\n",
      "abs_title_subjectivity           39626 non-null float64\n",
      "abs_title_sentiment_polarity     39626 non-null float64\n",
      "shares                           39626 non-null int64\n",
      "weekday                          39626 non-null object\n",
      "data_channel                     39626 non-null object\n",
      "dtypes: float64(59), int64(2), object(3)\n",
      "memory usage: 19.3+ MB\n"
     ]
    }
   ],
   "source": [
    "df.info()"
   ]
  },
  {
   "cell_type": "markdown",
   "metadata": {},
   "source": [
    "### Add popuparity column"
   ]
  },
  {
   "cell_type": "markdown",
   "metadata": {},
   "source": [
    "Articles with more than 6500 shares are consider popular. To predict the popularity, we need to label the data with if popular with 1 and 0. "
   ]
  },
  {
   "cell_type": "code",
   "execution_count": 4,
   "metadata": {},
   "outputs": [],
   "source": [
    "df.loc[(df.shares >6200), 'popularity'] = 1\n",
    "df.loc[(df.shares <= 6200), 'popularity'] = 0"
   ]
  },
  {
   "cell_type": "code",
   "execution_count": 5,
   "metadata": {},
   "outputs": [
    {
     "data": {
      "text/plain": [
       "0.0    35697\n",
       "1.0     3929\n",
       "Name: popularity, dtype: int64"
      ]
     },
     "execution_count": 5,
     "metadata": {},
     "output_type": "execute_result"
    }
   ],
   "source": [
    "df.popularity.value_counts()"
   ]
  },
  {
   "cell_type": "code",
   "execution_count": null,
   "metadata": {},
   "outputs": [],
   "source": []
  },
  {
   "cell_type": "markdown",
   "metadata": {},
   "source": [
    "## Machine Learning Models Evaluation"
   ]
  },
  {
   "cell_type": "markdown",
   "metadata": {},
   "source": [
    "### split train and test data"
   ]
  },
  {
   "cell_type": "code",
   "execution_count": 6,
   "metadata": {},
   "outputs": [],
   "source": [
    "from sklearn.model_selection import train_test_split,GridSearchCV\n",
    "from sklearn.metrics import accuracy_score"
   ]
  },
  {
   "cell_type": "code",
   "execution_count": 7,
   "metadata": {},
   "outputs": [],
   "source": [
    "# select X dataset and y dataset\n",
    "X = df.iloc[:,2:61]\n",
    "y = df.popularity"
   ]
  },
  {
   "cell_type": "code",
   "execution_count": 8,
   "metadata": {},
   "outputs": [
    {
     "data": {
      "text/plain": [
       "Index(['timedelta', 'n_tokens_title', 'n_tokens_content', 'n_unique_tokens',\n",
       "       'n_non_stop_words', 'n_non_stop_unique_tokens', 'num_hrefs',\n",
       "       'num_self_hrefs', 'num_imgs', 'num_videos', 'average_token_length',\n",
       "       'num_keywords', 'data_channel_is_lifestyle',\n",
       "       'data_channel_is_entertainment', 'data_channel_is_bus',\n",
       "       'data_channel_is_socmed', 'data_channel_is_tech',\n",
       "       'data_channel_is_world', 'kw_min_min', 'kw_max_min', 'kw_avg_min',\n",
       "       'kw_min_max', 'kw_max_max', 'kw_avg_max', 'kw_min_avg', 'kw_max_avg',\n",
       "       'kw_avg_avg', 'self_reference_min_shares', 'self_reference_max_shares',\n",
       "       'self_reference_avg_sharess', 'weekday_is_monday', 'weekday_is_tuesday',\n",
       "       'weekday_is_wednesday', 'weekday_is_thursday', 'weekday_is_friday',\n",
       "       'weekday_is_saturday', 'weekday_is_sunday', 'is_weekend', 'LDA_00',\n",
       "       'LDA_01', 'LDA_02', 'LDA_03', 'LDA_04', 'global_subjectivity',\n",
       "       'global_sentiment_polarity', 'global_rate_positive_words',\n",
       "       'global_rate_negative_words', 'rate_positive_words',\n",
       "       'rate_negative_words', 'avg_positive_polarity', 'min_positive_polarity',\n",
       "       'max_positive_polarity', 'avg_negative_polarity',\n",
       "       'min_negative_polarity', 'max_negative_polarity', 'title_subjectivity',\n",
       "       'title_sentiment_polarity', 'abs_title_subjectivity',\n",
       "       'abs_title_sentiment_polarity'],\n",
       "      dtype='object')"
      ]
     },
     "execution_count": 8,
     "metadata": {},
     "output_type": "execute_result"
    }
   ],
   "source": [
    "X.columns"
   ]
  },
  {
   "cell_type": "code",
   "execution_count": 9,
   "metadata": {},
   "outputs": [],
   "source": [
    "# split train data and test data\n",
    "X_train,X_test,y_train,y_test = train_test_split(X,y,test_size=0.3,random_state=21,stratify=y)"
   ]
  },
  {
   "cell_type": "markdown",
   "metadata": {},
   "source": [
    "### K-Nearest Neighbors"
   ]
  },
  {
   "cell_type": "code",
   "execution_count": 22,
   "metadata": {},
   "outputs": [],
   "source": [
    "from sklearn.neighbors import KNeighborsClassifier"
   ]
  },
  {
   "cell_type": "markdown",
   "metadata": {},
   "source": [
    "#### Search for optimized parameter and train model with optimzed parameter"
   ]
  },
  {
   "cell_type": "code",
   "execution_count": 40,
   "metadata": {},
   "outputs": [
    {
     "name": "stdout",
     "output_type": "stream",
     "text": [
      "{'n_neighbors': 22} 0.9008580286970942\n"
     ]
    }
   ],
   "source": [
    "#train KNeighbors model\n",
    "\n",
    "param_grid={'n_neighbors':np.arange(1,30)}\n",
    "knn=KNeighborsClassifier()\n",
    "knn_cv=GridSearchCV(knn,param_grid,cv=5)\n",
    "knn_cv.fit(X_train,y_train)\n",
    "print(knn_cv.best_params_,knn_cv.best_score_)"
   ]
  },
  {
   "cell_type": "code",
   "execution_count": 10,
   "metadata": {},
   "outputs": [],
   "source": [
    "# The optimized n_neighbors is 22"
   ]
  },
  {
   "cell_type": "code",
   "execution_count": 23,
   "metadata": {},
   "outputs": [
    {
     "name": "stdout",
     "output_type": "stream",
     "text": [
      "CPU times: user 233 ms, sys: 4.06 ms, total: 237 ms\n",
      "Wall time: 244 ms\n"
     ]
    },
    {
     "data": {
      "text/plain": [
       "KNeighborsClassifier(algorithm='auto', leaf_size=30, metric='minkowski',\n",
       "                     metric_params=None, n_jobs=None, n_neighbors=22, p=2,\n",
       "                     weights='uniform')"
      ]
     },
     "execution_count": 23,
     "metadata": {},
     "output_type": "execute_result"
    }
   ],
   "source": [
    "%%time\n",
    "# Train KNN model\n",
    "\n",
    "knn=KNeighborsClassifier(n_neighbors=22)\n",
    "knn.fit(X_train,y_train)"
   ]
  },
  {
   "cell_type": "code",
   "execution_count": 24,
   "metadata": {},
   "outputs": [],
   "source": [
    "# prediect the test data with trained model\n",
    "\n",
    "y_predict_knn=knn.predict(X_test)"
   ]
  },
  {
   "cell_type": "markdown",
   "metadata": {},
   "source": [
    "#### Accuracy Score"
   ]
  },
  {
   "cell_type": "code",
   "execution_count": 25,
   "metadata": {},
   "outputs": [
    {
     "name": "stdout",
     "output_type": "stream",
     "text": [
      "The accuracy score is 0.9008243606998654\n"
     ]
    }
   ],
   "source": [
    "from sklearn.metrics import accuracy_score\n",
    "\n",
    "score = accuracy_score(y_predict_knn,y_test)\n",
    "print('The accuracy score is '+str(score))"
   ]
  },
  {
   "cell_type": "markdown",
   "metadata": {},
   "source": [
    "#### Confusion metrics"
   ]
  },
  {
   "cell_type": "code",
   "execution_count": 26,
   "metadata": {},
   "outputs": [
    {
     "name": "stdout",
     "output_type": "stream",
     "text": [
      "Confusion matrix:\n",
      " [[10709  1179]\n",
      " [    0     0]]\n",
      "Classifiction report:\n",
      "               precision    recall  f1-score   support\n",
      "\n",
      "         0.0       1.00      0.90      0.95     11888\n",
      "         1.0       0.00      0.00      0.00         0\n",
      "\n",
      "    accuracy                           0.90     11888\n",
      "   macro avg       0.50      0.45      0.47     11888\n",
      "weighted avg       1.00      0.90      0.95     11888\n",
      "\n"
     ]
    },
    {
     "name": "stderr",
     "output_type": "stream",
     "text": [
      "/Users/elisechen/anaconda3/envs/snowfakes/lib/python3.7/site-packages/sklearn/metrics/classification.py:1439: UndefinedMetricWarning: Recall and F-score are ill-defined and being set to 0.0 in labels with no true samples.\n",
      "  'recall', 'true', average, warn_for)\n"
     ]
    }
   ],
   "source": [
    "from sklearn.metrics import classification_report,confusion_matrix\n",
    "\n",
    "confusion_knn=confusion_matrix(y_predict_knn,y_test)\n",
    "classifiction_knn=classification_report(y_predict_knn,y_test)\n",
    "\n",
    "print('Confusion matrix:\\n',confusion_knn)\n",
    "print('Classifiction report:\\n',classifiction_knn)"
   ]
  },
  {
   "cell_type": "code",
   "execution_count": 27,
   "metadata": {
    "code_folding": []
   },
   "outputs": [
    {
     "data": {
      "image/png": "[encoded data removed]",
      "text/plain": [
       "<Figure size 432x288 with 2 Axes>"
      ]
     },
     "metadata": {
      "needs_background": "light"
     },
     "output_type": "display_data"
    }
   ],
   "source": [
    "# plot comfusion matrix\n",
    "\n",
    "from sklearn.utils.multiclass import unique_labels\n",
    "\n",
    "fig, ax = plt.subplots()\n",
    "im = ax.imshow(confusion_knn, interpolation='nearest',cmap=\"Blues\")\n",
    "ax.figure.colorbar(im, ax=ax)\n",
    "classes = unique_labels(y_predict_knn,y_test)\n",
    "ax.set(xticks=np.arange(confusion_knn.shape[1]),yticks=np.arange(confusion_knn.shape[0]),xticklabels=classes, yticklabels=classes, title='KNN Confusion matrix', ylabel='True',xlabel='Predicted')\n",
    "\n",
    "# Rotate the tick labels and set their alignment.\n",
    "plt.setp(ax.get_xticklabels(), rotation=45, ha=\"right\",rotation_mode=\"anchor\")\n",
    "\n",
    "# Loop over data dimensions and create text annotations.\n",
    "thresh = confusion_knn.max() / 2\n",
    "for i in range(confusion_knn.shape[0]):\n",
    "        for j in range(confusion_knn.shape[1]):\n",
    "            ax.text(j, i, format(confusion_knn[i, j], 'd'),\n",
    "                    ha=\"center\", va=\"center\",\n",
    "                    color=\"white\" if confusion_knn[i, j] > thresh else \"black\")\n",
    "\n",
    "b, t = plt.ylim()\n",
    "b += 0.5\n",
    "t -= 0.5\n",
    "plt.ylim(b, t)\n",
    "plt.show()"
   ]
  },
  {
   "cell_type": "markdown",
   "metadata": {},
   "source": [
    "#### ROC Curve and AUC"
   ]
  },
  {
   "cell_type": "code",
   "execution_count": 30,
   "metadata": {},
   "outputs": [],
   "source": [
    "from sklearn.metrics import roc_curve,auc"
   ]
  },
  {
   "cell_type": "code",
   "execution_count": 31,
   "metadata": {},
   "outputs": [
    {
     "data": {
      "image/png": "[encoded data removed]",
      "text/plain": [
       "<Figure size 432x288 with 1 Axes>"
      ]
     },
     "metadata": {
      "needs_background": "light"
     },
     "output_type": "display_data"
    }
   ],
   "source": [
    "y_scores_knn = knn.predict_proba(X_test)\n",
    "fpr, tpr, threshold = roc_curve(y_test, y_scores_knn[:, 1])\n",
    "roc_auc = auc(fpr, tpr)\n",
    "#plot the ROC curve\n",
    "plt.title('Receiver Operating Characteristic')\n",
    "plt.plot(fpr, tpr, 'b', label = 'AUC = %0.2f' % roc_auc)\n",
    "plt.legend(loc = 'lower right')\n",
    "plt.plot([0, 1], [0, 1],'r--')\n",
    "plt.xlim([0, 1])\n",
    "plt.ylim([0, 1])\n",
    "#axis label\n",
    "plt.ylabel('True Positive Rate')\n",
    "plt.xlabel('False Positive Rate')\n",
    "plt.title('ROC Curve of kNN')\n",
    "plt.show()"
   ]
  },
  {
   "cell_type": "markdown",
   "metadata": {},
   "source": [
    "#### Precision-Recall curve"
   ]
  },
  {
   "cell_type": "code",
   "execution_count": 49,
   "metadata": {},
   "outputs": [
    {
     "name": "stderr",
     "output_type": "stream",
     "text": [
      "/Users/elisechen/anaconda3/envs/snowfakes/lib/python3.7/site-packages/sklearn/metrics/classification.py:1437: UndefinedMetricWarning: F-score is ill-defined and being set to 0.0 due to no predicted samples.\n",
      "  'precision', 'predicted', average, warn_for)\n"
     ]
    },
    {
     "data": {
      "image/png": "[encoded data removed]",
      "text/plain": [
       "<Figure size 432x288 with 1 Axes>"
      ]
     },
     "metadata": {
      "needs_background": "light"
     },
     "output_type": "display_data"
    }
   ],
   "source": [
    "from sklearn.metrics import precision_recall_curve\n",
    "from sklearn.metrics import f1_score\n",
    "\n",
    "precision_knn, recall_knn, _ = precision_recall_curve(y_test, y_scores_knn[:, 1])\n",
    "f1_knn, auc_knn = f1_score(y_test, y_predict_knn), auc(recall_knn, precision_knn)\n",
    "# plot the precision-recall curves\n",
    "no_skill = len(y_test[y_test==1]) / len(y_test)\n",
    "plt.plot([0, 1], [no_skill, no_skill], linestyle='--',c='r')\n",
    "plt.plot(recall_knn, precision_knn,c='b',label = 'f1 = %0.2f' % f1_knn)\n",
    "# axis labels\n",
    "plt.xlabel('Recall')\n",
    "plt.ylabel('Precision')\n",
    "plt.legend(loc = 'upper right')\n",
    "plt.title('Precision-Recall Curve of kNN')\n",
    "# show the plot\n",
    "plt.show()"
   ]
  },
  {
   "cell_type": "code",
   "execution_count": null,
   "metadata": {},
   "outputs": [],
   "source": []
  },
  {
   "cell_type": "markdown",
   "metadata": {},
   "source": [
    "### Naive Bayes"
   ]
  },
  {
   "cell_type": "code",
   "execution_count": 51,
   "metadata": {},
   "outputs": [],
   "source": [
    "from sklearn.naive_bayes import GaussianNB"
   ]
  },
  {
   "cell_type": "markdown",
   "metadata": {},
   "source": [
    "#### Train the model"
   ]
  },
  {
   "cell_type": "code",
   "execution_count": 90,
   "metadata": {},
   "outputs": [
    {
     "name": "stdout",
     "output_type": "stream",
     "text": [
      "CPU times: user 60.4 ms, sys: 16.6 ms, total: 76.9 ms\n",
      "Wall time: 85.8 ms\n"
     ]
    },
    {
     "data": {
      "text/plain": [
       "GaussianNB(priors=None, var_smoothing=1e-09)"
      ]
     },
     "execution_count": 90,
     "metadata": {},
     "output_type": "execute_result"
    }
   ],
   "source": [
    "%%time\n",
    "#train Logistic Regression \n",
    "\n",
    "gnb = GaussianNB()\n",
    "gnb.fit(X_train,y_train)\n"
   ]
  },
  {
   "cell_type": "code",
   "execution_count": null,
   "metadata": {},
   "outputs": [],
   "source": [
    "y_predict_gnb = gnb.predict(X_test)"
   ]
  },
  {
   "cell_type": "markdown",
   "metadata": {},
   "source": [
    "#### Accuracy Score"
   ]
  },
  {
   "cell_type": "code",
   "execution_count": 57,
   "metadata": {},
   "outputs": [
    {
     "name": "stdout",
     "output_type": "stream",
     "text": [
      "0.8776917900403769\n"
     ]
    }
   ],
   "source": [
    "gnb_score=accuracy_score(y_test,y_predict_gnb)\n",
    "print(gnb_score)"
   ]
  },
  {
   "cell_type": "markdown",
   "metadata": {},
   "source": [
    "#### Confusion metrics"
   ]
  },
  {
   "cell_type": "code",
   "execution_count": 58,
   "metadata": {},
   "outputs": [
    {
     "name": "stdout",
     "output_type": "stream",
     "text": [
      "Confusion matrix:\n",
      " [[10336  1081]\n",
      " [  373    98]]\n",
      "Classifiction report:\n",
      "               precision    recall  f1-score   support\n",
      "\n",
      "         0.0       0.97      0.91      0.93     11417\n",
      "         1.0       0.08      0.21      0.12       471\n",
      "\n",
      "    accuracy                           0.88     11888\n",
      "   macro avg       0.52      0.56      0.53     11888\n",
      "weighted avg       0.93      0.88      0.90     11888\n",
      "\n"
     ]
    }
   ],
   "source": [
    "confusion_gnb=confusion_matrix(y_predict_gnb,y_test)\n",
    "classifiction_gnb=classification_report(y_predict_gnb,y_test)\n",
    "\n",
    "print('Confusion matrix:\\n',confusion_gnb)\n",
    "print('Classifiction report:\\n',classifiction_gnb)"
   ]
  },
  {
   "cell_type": "code",
   "execution_count": 63,
   "metadata": {},
   "outputs": [
    {
     "data": {
      "image/png": "[encoded data removed]",
      "text/plain": [
       "<Figure size 432x288 with 2 Axes>"
      ]
     },
     "metadata": {
      "needs_background": "light"
     },
     "output_type": "display_data"
    }
   ],
   "source": [
    "# plot comfusion matrix\n",
    "\n",
    "fig, ax = plt.subplots()\n",
    "im = ax.imshow(confusion_gnb, interpolation='nearest',cmap=\"Blues\")\n",
    "ax.figure.colorbar(im, ax=ax)\n",
    "classes = unique_labels(y_predict_gnb,y_test)\n",
    "ax.set(xticks=np.arange(confusion_gnb.shape[1]),yticks=np.arange(confusion_gnb.shape[0]),\n",
    "       xticklabels=classes, yticklabels=classes, title='Gaussian Naive Bayes Confusion matrix', \n",
    "       ylabel='True',xlabel='Predicted')\n",
    "\n",
    "# Rotate the tick labels and set their alignment.\n",
    "plt.setp(ax.get_xticklabels(), rotation=45, ha=\"right\",rotation_mode=\"anchor\")\n",
    "\n",
    "# Loop over data dimensions and create text annotations.\n",
    "thresh = confusion_gnb.max() / 2\n",
    "for i in range(confusion_gnb.shape[0]):\n",
    "        for j in range(confusion_gnb.shape[1]):\n",
    "            ax.text(j, i, format(confusion_gnb[i, j], 'd'),\n",
    "                    ha=\"center\", va=\"center\",\n",
    "                    color=\"white\" if confusion_gnb[i, j] > thresh else \"black\")\n",
    "\n",
    "b, t = plt.ylim()\n",
    "b += 0.5\n",
    "t -= 0.5\n",
    "plt.ylim(b, t)\n",
    "plt.show()"
   ]
  },
  {
   "cell_type": "markdown",
   "metadata": {},
   "source": [
    "#### ROC Curve and AUC"
   ]
  },
  {
   "cell_type": "code",
   "execution_count": 59,
   "metadata": {},
   "outputs": [
    {
     "data": {
      "image/png": "[encoded data removed]",
      "text/plain": [
       "<Figure size 432x288 with 1 Axes>"
      ]
     },
     "metadata": {
      "needs_background": "light"
     },
     "output_type": "display_data"
    }
   ],
   "source": [
    "y_scores_gnb = gnb.predict_proba(X_test)\n",
    "fpr, tpr, threshold = roc_curve(y_test, y_scores_gnb[:, 1])\n",
    "roc_auc = auc(fpr, tpr)\n",
    "#plot the ROC curve\n",
    "plt.title('Receiver Operating Characteristic')\n",
    "plt.plot(fpr, tpr, 'b', label = 'AUC = %0.2f' % roc_auc)\n",
    "plt.legend(loc = 'lower right')\n",
    "plt.plot([0, 1], [0, 1],'r--')\n",
    "plt.xlim([0, 1])\n",
    "plt.ylim([0, 1])\n",
    "#axis label\n",
    "plt.ylabel('True Positive Rate')\n",
    "plt.xlabel('False Positive Rate')\n",
    "plt.title('ROC Curve of Gaussian Naive Bayes')\n",
    "plt.show()"
   ]
  },
  {
   "cell_type": "markdown",
   "metadata": {},
   "source": [
    "#### Precision-recall curve"
   ]
  },
  {
   "cell_type": "code",
   "execution_count": 61,
   "metadata": {},
   "outputs": [
    {
     "data": {
      "image/png": "[encoded data removed]",
      "text/plain": [
       "<Figure size 432x288 with 1 Axes>"
      ]
     },
     "metadata": {
      "needs_background": "light"
     },
     "output_type": "display_data"
    }
   ],
   "source": [
    "precision_gnb, recall_gnb, _ = precision_recall_curve(y_test, y_scores_gnb[:, 1])\n",
    "f1_gnb, auc_gnb = f1_score(y_test, y_predict_gnb), auc(recall_gnb, precision_gnb)\n",
    "# plot the precision-recall curves\n",
    "no_skill = len(y_test[y_test==1]) / len(y_test)\n",
    "plt.plot([0, 1], [no_skill, no_skill], linestyle='--',c='r')\n",
    "plt.plot(recall_gnb, precision_gnb,c='b',label = 'f1 = %0.2f' % f1_gnb)\n",
    "# axis labels\n",
    "plt.xlabel('Recall')\n",
    "plt.ylabel('Precision')\n",
    "plt.legend(loc = 'upper right')\n",
    "plt.title('Precision-Recall Curve of Gaussian Naive Bayes')\n",
    "# show the plot\n",
    "plt.show()"
   ]
  },
  {
   "cell_type": "code",
   "execution_count": null,
   "metadata": {},
   "outputs": [],
   "source": []
  },
  {
   "cell_type": "markdown",
   "metadata": {},
   "source": [
    "### Desicision Tree"
   ]
  },
  {
   "cell_type": "code",
   "execution_count": 64,
   "metadata": {},
   "outputs": [],
   "source": [
    "from sklearn.tree import DecisionTreeClassifier"
   ]
  },
  {
   "cell_type": "markdown",
   "metadata": {},
   "source": [
    "#### Search for Optimized Parameters"
   ]
  },
  {
   "cell_type": "code",
   "execution_count": 68,
   "metadata": {},
   "outputs": [
    {
     "name": "stdout",
     "output_type": "stream",
     "text": [
      "{'max_depth': 3} 0.9008580286970942\n"
     ]
    }
   ],
   "source": [
    "# train the tree model\n",
    "\n",
    "param_grid_tree = {'max_depth': np.arange(3, 10)}\n",
    "\n",
    "tree = DecisionTreeClassifier()\n",
    "tree_cv=GridSearchCV(tree,param_grid_tree,cv=5)\n",
    "tree_cv.fit(X_train,y_train)\n",
    "print(tree_cv.best_params_,tree_cv.best_score_)"
   ]
  },
  {
   "cell_type": "code",
   "execution_count": 69,
   "metadata": {},
   "outputs": [],
   "source": [
    "# The best Parameters is max_depth =3 "
   ]
  },
  {
   "cell_type": "code",
   "execution_count": 91,
   "metadata": {},
   "outputs": [
    {
     "name": "stdout",
     "output_type": "stream",
     "text": [
      "CPU times: user 268 ms, sys: 4.5 ms, total: 273 ms\n",
      "Wall time: 272 ms\n"
     ]
    },
    {
     "data": {
      "text/plain": [
       "DecisionTreeClassifier(class_weight=None, criterion='gini', max_depth=3,\n",
       "                       max_features=None, max_leaf_nodes=None,\n",
       "                       min_impurity_decrease=0.0, min_impurity_split=None,\n",
       "                       min_samples_leaf=1, min_samples_split=2,\n",
       "                       min_weight_fraction_leaf=0.0, presort=False,\n",
       "                       random_state=None, splitter='best')"
      ]
     },
     "execution_count": 91,
     "metadata": {},
     "output_type": "execute_result"
    }
   ],
   "source": [
    "%%time\n",
    "#Train model with optimized parameter\n",
    "tree = DecisionTreeClassifier(max_depth=3)\n",
    "tree.fit(X_train,y_train)"
   ]
  },
  {
   "cell_type": "code",
   "execution_count": null,
   "metadata": {},
   "outputs": [],
   "source": [
    "# Predict the test data\n",
    "y_predict_tree = tree.predict(X_test)"
   ]
  },
  {
   "cell_type": "markdown",
   "metadata": {},
   "source": [
    "#### Accuracy Score"
   ]
  },
  {
   "cell_type": "code",
   "execution_count": 73,
   "metadata": {},
   "outputs": [
    {
     "name": "stdout",
     "output_type": "stream",
     "text": [
      "0.9008243606998654\n"
     ]
    }
   ],
   "source": [
    "tree_score=accuracy_score(y_test,y_predict_tree)\n",
    "print(tree_score)"
   ]
  },
  {
   "cell_type": "markdown",
   "metadata": {},
   "source": [
    "#### Confusion metrics"
   ]
  },
  {
   "cell_type": "code",
   "execution_count": 74,
   "metadata": {},
   "outputs": [
    {
     "name": "stdout",
     "output_type": "stream",
     "text": [
      "Confusion matrix:\n",
      " [[10709  1179]\n",
      " [    0     0]]\n",
      "Classifiction report:\n",
      "               precision    recall  f1-score   support\n",
      "\n",
      "         0.0       1.00      0.90      0.95     11888\n",
      "         1.0       0.00      0.00      0.00         0\n",
      "\n",
      "    accuracy                           0.90     11888\n",
      "   macro avg       0.50      0.45      0.47     11888\n",
      "weighted avg       1.00      0.90      0.95     11888\n",
      "\n"
     ]
    },
    {
     "name": "stderr",
     "output_type": "stream",
     "text": [
      "/Users/elisechen/anaconda3/envs/snowfakes/lib/python3.7/site-packages/sklearn/metrics/classification.py:1439: UndefinedMetricWarning: Recall and F-score are ill-defined and being set to 0.0 in labels with no true samples.\n",
      "  'recall', 'true', average, warn_for)\n"
     ]
    }
   ],
   "source": [
    "confusion_tree=confusion_matrix(y_predict_tree,y_test)\n",
    "classifiction_tree=classification_report(y_predict_tree,y_test)\n",
    "\n",
    "print('Confusion matrix:\\n',confusion_tree)\n",
    "print('Classifiction report:\\n',classifiction_tree)"
   ]
  },
  {
   "cell_type": "code",
   "execution_count": 75,
   "metadata": {},
   "outputs": [
    {
     "data": {
      "image/png": "[encoded data removed]",
      "text/plain": [
       "<Figure size 432x288 with 2 Axes>"
      ]
     },
     "metadata": {
      "needs_background": "light"
     },
     "output_type": "display_data"
    }
   ],
   "source": [
    "# plot comfusion matrix\n",
    "\n",
    "fig, ax = plt.subplots()\n",
    "im = ax.imshow(confusion_tree, interpolation='nearest',cmap=\"Blues\")\n",
    "ax.figure.colorbar(im, ax=ax)\n",
    "classes = unique_labels(y_predict_tree,y_test)\n",
    "ax.set(xticks=np.arange(confusion_tree.shape[1]),yticks=np.arange(confusion_tree.shape[0]),\n",
    "       xticklabels=classes, yticklabels=classes, title='Desicision Tree Confusion matrix', \n",
    "       ylabel='True',xlabel='Predicted')\n",
    "\n",
    "# Rotate the tick labels and set their alignment.\n",
    "plt.setp(ax.get_xticklabels(), rotation=45, ha=\"right\",rotation_mode=\"anchor\")\n",
    "\n",
    "# Loop over data dimensions and create text annotations.\n",
    "thresh = confusion_tree.max() / 2\n",
    "for i in range(confusion_tree.shape[0]):\n",
    "        for j in range(confusion_tree.shape[1]):\n",
    "            ax.text(j, i, format(confusion_tree[i, j], 'd'),\n",
    "                    ha=\"center\", va=\"center\",\n",
    "                    color=\"white\" if confusion_tree[i, j] > thresh else \"black\")\n",
    "\n",
    "b, t = plt.ylim()\n",
    "b += 0.5\n",
    "t -= 0.5\n",
    "plt.ylim(b, t)\n",
    "plt.show()"
   ]
  },
  {
   "cell_type": "markdown",
   "metadata": {},
   "source": [
    "#### ROC Curve and AUC"
   ]
  },
  {
   "cell_type": "code",
   "execution_count": 76,
   "metadata": {},
   "outputs": [
    {
     "data": {
      "image/png": "[encoded data removed]",
      "text/plain": [
       "<Figure size 432x288 with 1 Axes>"
      ]
     },
     "metadata": {
      "needs_background": "light"
     },
     "output_type": "display_data"
    }
   ],
   "source": [
    "y_scores_tree = tree.predict_proba(X_test)\n",
    "fpr, tpr, threshold = roc_curve(y_test, y_scores_tree[:, 1])\n",
    "roc_auc = auc(fpr, tpr)\n",
    "#plot the ROC curve\n",
    "plt.title('Receiver Operating Characteristic')\n",
    "plt.plot(fpr, tpr, 'b', label = 'AUC = %0.2f' % roc_auc)\n",
    "plt.legend(loc = 'lower right')\n",
    "plt.plot([0, 1], [0, 1],'r--')\n",
    "plt.xlim([0, 1])\n",
    "plt.ylim([0, 1])\n",
    "#axis label\n",
    "plt.ylabel('True Positive Rate')\n",
    "plt.xlabel('False Positive Rate')\n",
    "plt.title('ROC Curve of Decision Tree')\n",
    "plt.show()"
   ]
  },
  {
   "cell_type": "markdown",
   "metadata": {},
   "source": [
    "#### Precision-Recall Curve"
   ]
  },
  {
   "cell_type": "code",
   "execution_count": 77,
   "metadata": {},
   "outputs": [
    {
     "name": "stderr",
     "output_type": "stream",
     "text": [
      "/Users/elisechen/anaconda3/envs/snowfakes/lib/python3.7/site-packages/sklearn/metrics/classification.py:1437: UndefinedMetricWarning: F-score is ill-defined and being set to 0.0 due to no predicted samples.\n",
      "  'precision', 'predicted', average, warn_for)\n"
     ]
    },
    {
     "data": {
      "image/png": "[encoded data removed]",
      "text/plain": [
       "<Figure size 432x288 with 1 Axes>"
      ]
     },
     "metadata": {
      "needs_background": "light"
     },
     "output_type": "display_data"
    }
   ],
   "source": [
    "precision_tree, recall_tree, _ = precision_recall_curve(y_test, y_scores_tree[:, 1])\n",
    "f1_tree, auc_tree = f1_score(y_test, y_predict_tree), auc(recall_tree, precision_tree)\n",
    "# plot the precision-recall curves\n",
    "no_skill = len(y_test[y_test==1]) / len(y_test)\n",
    "plt.plot([0, 1], [no_skill, no_skill], linestyle='--',c='r')\n",
    "plt.plot(recall_tree, precision_tree,c='b',label = 'f1 = %0.2f' % f1_tree)\n",
    "# axis labels\n",
    "plt.xlabel('Recall')\n",
    "plt.ylabel('Precision')\n",
    "plt.legend(loc = 'upper right')\n",
    "plt.title('Precision-Recall Curve of Desicion Tree')\n",
    "# show the plot\n",
    "plt.show()"
   ]
  },
  {
   "cell_type": "code",
   "execution_count": null,
   "metadata": {},
   "outputs": [],
   "source": []
  },
  {
   "cell_type": "markdown",
   "metadata": {},
   "source": [
    "### Random Forest"
   ]
  },
  {
   "cell_type": "code",
   "execution_count": 10,
   "metadata": {},
   "outputs": [],
   "source": [
    "from sklearn.ensemble import RandomForestClassifier"
   ]
  },
  {
   "cell_type": "markdown",
   "metadata": {},
   "source": [
    "#### Search for optimized paramaters"
   ]
  },
  {
   "cell_type": "code",
   "execution_count": 62,
   "metadata": {},
   "outputs": [
    {
     "name": "stdout",
     "output_type": "stream",
     "text": [
      "{'bootstrap': True, 'criterion': 'gini', 'n_estimators': 500} 0.9007859254452376\n"
     ]
    }
   ],
   "source": [
    "#train RandomForest Model\n",
    "estimators=[10,100,300,500,800,1000]\n",
    "criterions=['gini','entropy']\n",
    "grid_param_rf={'n_estimators':estimators,'criterion':criterions,'bootstrap':[True,False]}\n",
    "rf=RandomForestClassifier()\n",
    "rf_cv=GridSearchCV(rf,grid_param_rf,cv=5)\n",
    "rf_cv.fit(X_train,y_train)\n",
    "\n",
    "print(rf_cv.best_params_,rf_cv.best_score_)"
   ]
  },
  {
   "cell_type": "code",
   "execution_count": 79,
   "metadata": {},
   "outputs": [],
   "source": [
    "# The optimized parameter is bootstrap=True, criterion = gini, n_estimators =500 "
   ]
  },
  {
   "cell_type": "code",
   "execution_count": 11,
   "metadata": {},
   "outputs": [
    {
     "name": "stdout",
     "output_type": "stream",
     "text": [
      "CPU times: user 57.9 s, sys: 201 ms, total: 58.1 s\n",
      "Wall time: 58.2 s\n"
     ]
    },
    {
     "data": {
      "text/plain": [
       "RandomForestClassifier(bootstrap=True, class_weight=None, criterion='gini',\n",
       "                       max_depth=None, max_features='auto', max_leaf_nodes=None,\n",
       "                       min_impurity_decrease=0.0, min_impurity_split=None,\n",
       "                       min_samples_leaf=1, min_samples_split=2,\n",
       "                       min_weight_fraction_leaf=0.0, n_estimators=500,\n",
       "                       n_jobs=None, oob_score=False, random_state=None,\n",
       "                       verbose=0, warm_start=False)"
      ]
     },
     "execution_count": 11,
     "metadata": {},
     "output_type": "execute_result"
    }
   ],
   "source": [
    "%%time\n",
    "# Train the model with optimized parameter\n",
    "\n",
    "rf=RandomForestClassifier(bootstrap=True, criterion = 'gini', n_estimators =500)\n",
    "rf.fit(X_train,y_train)"
   ]
  },
  {
   "cell_type": "code",
   "execution_count": 13,
   "metadata": {},
   "outputs": [],
   "source": [
    "#Predict the test data\n",
    "y_predict_rf = rf.predict(X_test)"
   ]
  },
  {
   "cell_type": "markdown",
   "metadata": {},
   "source": [
    "#### Accurate Score"
   ]
  },
  {
   "cell_type": "code",
   "execution_count": 87,
   "metadata": {},
   "outputs": [
    {
     "name": "stdout",
     "output_type": "stream",
     "text": [
      "0.9005720053835801\n"
     ]
    }
   ],
   "source": [
    "rf_score=accuracy_score(y_test,y_predict_rf)\n",
    "print(rf_score)"
   ]
  },
  {
   "cell_type": "markdown",
   "metadata": {},
   "source": [
    "#### Confusion Metrics"
   ]
  },
  {
   "cell_type": "code",
   "execution_count": 92,
   "metadata": {},
   "outputs": [
    {
     "name": "stdout",
     "output_type": "stream",
     "text": [
      "Confusion matrix:\n",
      " [[10703  1176]\n",
      " [    6     3]]\n",
      "Classifiction report:\n",
      "               precision    recall  f1-score   support\n",
      "\n",
      "         0.0       1.00      0.90      0.95     11879\n",
      "         1.0       0.00      0.33      0.01         9\n",
      "\n",
      "    accuracy                           0.90     11888\n",
      "   macro avg       0.50      0.62      0.48     11888\n",
      "weighted avg       1.00      0.90      0.95     11888\n",
      "\n"
     ]
    }
   ],
   "source": [
    "confusion_rf=confusion_matrix(y_predict_rf,y_test)\n",
    "classifiction_rf=classification_report(y_predict_rf,y_test)\n",
    "\n",
    "print('Confusion matrix:\\n',confusion_rf)\n",
    "print('Classifiction report:\\n',classifiction_rf)"
   ]
  },
  {
   "cell_type": "code",
   "execution_count": 93,
   "metadata": {},
   "outputs": [
    {
     "data": {
      "image/png": "[encoded data removed]",
      "text/plain": [
       "<Figure size 432x288 with 2 Axes>"
      ]
     },
     "metadata": {
      "needs_background": "light"
     },
     "output_type": "display_data"
    }
   ],
   "source": [
    "# plot comfusion matrix\n",
    "\n",
    "fig, ax = plt.subplots()\n",
    "im = ax.imshow(confusion_rf, interpolation='nearest',cmap=\"Blues\")\n",
    "ax.figure.colorbar(im, ax=ax)\n",
    "classes = unique_labels(y_predict_rf,y_test)\n",
    "ax.set(xticks=np.arange(confusion_rf.shape[1]),yticks=np.arange(confusion_rf.shape[0]),\n",
    "       xticklabels=classes, yticklabels=classes, title='Random Forest Confusion matrix', \n",
    "       ylabel='True',xlabel='Predicted')\n",
    "\n",
    "# Rotate the tick labels and set their alignment.\n",
    "plt.setp(ax.get_xticklabels(), rotation=45, ha=\"right\",rotation_mode=\"anchor\")\n",
    "\n",
    "# Loop over data dimensions and create text annotations.\n",
    "thresh = confusion_rf.max() / 2\n",
    "for i in range(confusion_rf.shape[0]):\n",
    "        for j in range(confusion_rf.shape[1]):\n",
    "            ax.text(j, i, format(confusion_rf[i, j], 'd'),\n",
    "                    ha=\"center\", va=\"center\",\n",
    "                    color=\"white\" if confusion_rf[i, j] > thresh else \"black\")\n",
    "\n",
    "b, t = plt.ylim()\n",
    "b += 0.5\n",
    "t -= 0.5\n",
    "plt.ylim(b, t)\n",
    "plt.show()"
   ]
  },
  {
   "cell_type": "markdown",
   "metadata": {},
   "source": [
    "#### ROC Cruve and AUC"
   ]
  },
  {
   "cell_type": "code",
   "execution_count": 94,
   "metadata": {},
   "outputs": [
    {
     "data": {
      "image/png": "[encoded data removed]",
      "text/plain": [
       "<Figure size 432x288 with 1 Axes>"
      ]
     },
     "metadata": {
      "needs_background": "light"
     },
     "output_type": "display_data"
    }
   ],
   "source": [
    "y_scores_rf = rf.predict_proba(X_test)\n",
    "fpr, tpr, threshold = roc_curve(y_test, y_scores_rf[:, 1])\n",
    "roc_auc = auc(fpr, tpr)\n",
    "#plot the ROC curve\n",
    "plt.title('Receiver Operating Characteristic')\n",
    "plt.plot(fpr, tpr, 'b', label = 'AUC = %0.2f' % roc_auc)\n",
    "plt.legend(loc = 'lower right')\n",
    "plt.plot([0, 1], [0, 1],'r--')\n",
    "plt.xlim([0, 1])\n",
    "plt.ylim([0, 1])\n",
    "#axis label\n",
    "plt.ylabel('True Positive Rate')\n",
    "plt.xlabel('False Positive Rate')\n",
    "plt.title('ROC Curve of Random Forest')\n",
    "plt.show()"
   ]
  },
  {
   "cell_type": "markdown",
   "metadata": {},
   "source": [
    "#### Precision-recall Curve"
   ]
  },
  {
   "cell_type": "code",
   "execution_count": 95,
   "metadata": {},
   "outputs": [
    {
     "data": {
      "image/png": "[encoded data removed]",
      "text/plain": [
       "<Figure size 432x288 with 1 Axes>"
      ]
     },
     "metadata": {
      "needs_background": "light"
     },
     "output_type": "display_data"
    }
   ],
   "source": [
    "precision_rf, recall_rf, _ = precision_recall_curve(y_test, y_scores_rf[:, 1])\n",
    "f1_rf, auc_rf = f1_score(y_test, y_predict_rf), auc(recall_rf, precision_rf)\n",
    "# plot the precision-recall curves\n",
    "no_skill = len(y_test[y_test==1]) / len(y_test)\n",
    "plt.plot([0, 1], [no_skill, no_skill], linestyle='--',c='r')\n",
    "plt.plot(recall_rf, precision_rf,c='b',label = 'f1 = %0.2f' % f1_rf)\n",
    "# axis labels\n",
    "plt.xlabel('Recall')\n",
    "plt.ylabel('Precision')\n",
    "plt.legend(loc = 'upper right')\n",
    "plt.title('Precision-Recall Curve of Random Forest')\n",
    "# show the plot\n",
    "plt.show()"
   ]
  },
  {
   "cell_type": "code",
   "execution_count": null,
   "metadata": {},
   "outputs": [],
   "source": []
  },
  {
   "cell_type": "code",
   "execution_count": null,
   "metadata": {},
   "outputs": [],
   "source": []
  },
  {
   "cell_type": "markdown",
   "metadata": {},
   "source": [
    "### Support Vector Machine"
   ]
  },
  {
   "cell_type": "code",
   "execution_count": 15,
   "metadata": {},
   "outputs": [],
   "source": [
    "from sklearn.svm import SVC"
   ]
  },
  {
   "cell_type": "markdown",
   "metadata": {},
   "source": [
    "#### Search for optimized parameter"
   ]
  },
  {
   "cell_type": "code",
   "execution_count": null,
   "metadata": {},
   "outputs": [],
   "source": [
    "#train SVM model\n",
    "Cs=[0.1,1,10]\n",
    "gammas=[0.01,0.1,1]\n",
    "kernels=['linear', 'poly', 'rbf', 'sigmoid']\n",
    "param_grid_svc={'C':Cs,'kernel':kernels,'gamma':gammas}\n",
    "svc=SVC()\n",
    "svc_cv=GridSearchCV(svc,param_grid_svc,cv=5)\n",
    "svc_cv.fit(X_train,y_train)\n",
    "\n",
    "print(svc_cv.best_params_,svc_cv.best_score_)"
   ]
  },
  {
   "cell_type": "code",
   "execution_count": null,
   "metadata": {},
   "outputs": [],
   "source": []
  },
  {
   "cell_type": "code",
   "execution_count": 42,
   "metadata": {},
   "outputs": [
    {
     "name": "stdout",
     "output_type": "stream",
     "text": [
      "CPU times: user 21min 58s, sys: 5.96 s, total: 22min 4s\n",
      "Wall time: 22min 34s\n"
     ]
    },
    {
     "data": {
      "text/plain": [
       "SVC(C=0.1, cache_size=200, class_weight=None, coef0=0.0,\n",
       "    decision_function_shape='ovr', degree=3, gamma=0.01, kernel='rbf',\n",
       "    max_iter=-1, probability=True, random_state=None, shrinking=True, tol=0.001,\n",
       "    verbose=False)"
      ]
     },
     "execution_count": 42,
     "metadata": {},
     "output_type": "execute_result"
    }
   ],
   "source": [
    "%%time\n",
    "# Train the model with optimized parameter\n",
    "\n",
    "svm=SVC(C=0.1, gamma=0.01, kernel='rbf',probability=True)\n",
    "svm.fit(X_train,y_train)"
   ]
  },
  {
   "cell_type": "code",
   "execution_count": 43,
   "metadata": {},
   "outputs": [
    {
     "name": "stdout",
     "output_type": "stream",
     "text": [
      "CPU times: user 22.1 s, sys: 247 ms, total: 22.3 s\n",
      "Wall time: 26.6 s\n"
     ]
    }
   ],
   "source": [
    "%%time\n",
    "#Predict the test dataset\n",
    "y_predict_svm = svm.predict(X_test)"
   ]
  },
  {
   "cell_type": "markdown",
   "metadata": {},
   "source": [
    "#### Accuracy  Score"
   ]
  },
  {
   "cell_type": "code",
   "execution_count": 44,
   "metadata": {},
   "outputs": [
    {
     "name": "stdout",
     "output_type": "stream",
     "text": [
      "0.9008243606998654\n"
     ]
    }
   ],
   "source": [
    "svm_score=accuracy_score(y_test,y_predict_svm)\n",
    "print(svm_score)"
   ]
  },
  {
   "cell_type": "markdown",
   "metadata": {},
   "source": [
    "#### Confusion Metrics"
   ]
  },
  {
   "cell_type": "code",
   "execution_count": 45,
   "metadata": {},
   "outputs": [
    {
     "name": "stdout",
     "output_type": "stream",
     "text": [
      "Confusion matrix:\n",
      " [[10709  1179]\n",
      " [    0     0]]\n",
      "Classifiction report:\n",
      "               precision    recall  f1-score   support\n",
      "\n",
      "         0.0       1.00      0.90      0.95     11888\n",
      "         1.0       0.00      0.00      0.00         0\n",
      "\n",
      "    accuracy                           0.90     11888\n",
      "   macro avg       0.50      0.45      0.47     11888\n",
      "weighted avg       1.00      0.90      0.95     11888\n",
      "\n"
     ]
    },
    {
     "name": "stderr",
     "output_type": "stream",
     "text": [
      "/Users/elisechen/anaconda3/envs/snowfakes/lib/python3.7/site-packages/sklearn/metrics/classification.py:1439: UndefinedMetricWarning: Recall and F-score are ill-defined and being set to 0.0 in labels with no true samples.\n",
      "  'recall', 'true', average, warn_for)\n"
     ]
    }
   ],
   "source": [
    "confusion_svm=confusion_matrix(y_predict_svm,y_test)\n",
    "classifiction_svm=classification_report(y_predict_svm,y_test)\n",
    "\n",
    "print('Confusion matrix:\\n',confusion_svm)\n",
    "print('Classifiction report:\\n',classifiction_svm)"
   ]
  },
  {
   "cell_type": "code",
   "execution_count": 46,
   "metadata": {},
   "outputs": [
    {
     "data": {
      "image/png": "[encoded data removed]",
      "text/plain": [
       "<Figure size 432x288 with 2 Axes>"
      ]
     },
     "metadata": {
      "needs_background": "light"
     },
     "output_type": "display_data"
    }
   ],
   "source": [
    "# plot comfusion matrix\n",
    "\n",
    "fig, ax = plt.subplots()\n",
    "im = ax.imshow(confusion_svm, interpolation='nearest',cmap=\"Blues\")\n",
    "ax.figure.colorbar(im, ax=ax)\n",
    "classes = unique_labels(y_predict_svm,y_test)\n",
    "ax.set(xticks=np.arange(confusion_svm.shape[1]),yticks=np.arange(confusion_svm.shape[0]),\n",
    "       xticklabels=classes, yticklabels=classes, title='Random Forest Confusion matrix', \n",
    "       ylabel='True',xlabel='Predicted')\n",
    "\n",
    "# Rotate the tick labels and set their alignment.\n",
    "plt.setp(ax.get_xticklabels(), rotation=45, ha=\"right\",rotation_mode=\"anchor\")\n",
    "\n",
    "# Loop over data dimensions and create text annotations.\n",
    "thresh = confusion_svm.max() / 2\n",
    "for i in range(confusion_svm.shape[0]):\n",
    "        for j in range(confusion_svm.shape[1]):\n",
    "            ax.text(j, i, format(confusion_svm[i, j], 'd'),\n",
    "                    ha=\"center\", va=\"center\",\n",
    "                    color=\"white\" if confusion_svm[i, j] > thresh else \"black\")\n",
    "\n",
    "b, t = plt.ylim()\n",
    "b += 0.5\n",
    "t -= 0.5\n",
    "plt.ylim(b, t)\n",
    "plt.show()"
   ]
  },
  {
   "cell_type": "markdown",
   "metadata": {},
   "source": [
    "#### ROC Curve and AUC curve"
   ]
  },
  {
   "cell_type": "code",
   "execution_count": 47,
   "metadata": {},
   "outputs": [
    {
     "data": {
      "image/png": "[encoded data removed]",
      "text/plain": [
       "<Figure size 432x288 with 1 Axes>"
      ]
     },
     "metadata": {
      "needs_background": "light"
     },
     "output_type": "display_data"
    }
   ],
   "source": [
    "y_scores_svm = svm.predict_proba(X_test)\n",
    "fpr, tpr, threshold = roc_curve(y_test, y_scores_svm[:, 1])\n",
    "roc_auc = auc(fpr, tpr)\n",
    "#plot the ROC curve\n",
    "plt.title('Receiver Operating Characteristic')\n",
    "plt.plot(fpr, tpr, 'b', label = 'AUC = %0.2f' % roc_auc)\n",
    "plt.legend(loc = 'lower right')\n",
    "plt.plot([0, 1], [0, 1],'r--')\n",
    "plt.xlim([0, 1])\n",
    "plt.ylim([0, 1])\n",
    "#axis label\n",
    "plt.ylabel('True Positive Rate')\n",
    "plt.xlabel('False Positive Rate')\n",
    "plt.title('ROC Curve of Support Vector Machine')\n",
    "plt.show()"
   ]
  },
  {
   "cell_type": "markdown",
   "metadata": {},
   "source": [
    "#### Precision-recall Curve"
   ]
  },
  {
   "cell_type": "code",
   "execution_count": 50,
   "metadata": {},
   "outputs": [
    {
     "data": {
      "image/png": "[encoded data removed]",
      "text/plain": [
       "<Figure size 432x288 with 1 Axes>"
      ]
     },
     "metadata": {
      "needs_background": "light"
     },
     "output_type": "display_data"
    }
   ],
   "source": [
    "precision_svm, recall_svm, _ = precision_recall_curve(y_test, y_scores_svm[:, 1])\n",
    "f1_svm, auc_svm = f1_score(y_test, y_predict_svm), auc(recall_svm, precision_svm)\n",
    "# plot the precision-recall curves\n",
    "no_skill = len(y_test[y_test==1]) / len(y_test)\n",
    "plt.plot([0, 1], [no_skill, no_skill], linestyle='--',c='r')\n",
    "plt.plot(recall_svm, precision_svm,c='b',label = 'f1 = %0.2f' % f1_svm)\n",
    "# axis labels\n",
    "plt.xlabel('Recall')\n",
    "plt.ylabel('Precision')\n",
    "plt.legend(loc = 'upper right')\n",
    "plt.title('Precision-Recall Curve of Support Vector Machine')\n",
    "# show the plot\n",
    "plt.show()"
   ]
  },
  {
   "cell_type": "code",
   "execution_count": null,
   "metadata": {},
   "outputs": [],
   "source": []
  },
  {
   "cell_type": "markdown",
   "metadata": {},
   "source": [
    "### Random Forest Feature Importance"
   ]
  },
  {
   "cell_type": "code",
   "execution_count": 97,
   "metadata": {},
   "outputs": [
    {
     "data": {
      "image/png": "[encoded data removed]",
      "text/plain": [
       "<Figure size 576x576 with 1 Axes>"
      ]
     },
     "metadata": {
      "needs_background": "light"
     },
     "output_type": "display_data"
    }
   ],
   "source": [
    "importances = pd.Series(rf.feature_importances_, index=X.columns).sort_values(ascending=True)\n",
    "\n",
    "importances.plot(kind='barh',figsize=(8,8))\n",
    "plt.title(\"Feature importance of Random Forest Model\")\n",
    "plt.show()"
   ]
  },
  {
   "cell_type": "code",
   "execution_count": null,
   "metadata": {},
   "outputs": [],
   "source": []
  }
 ],
 "metadata": {
  "kernelspec": {
   "display_name": "Python 3",
   "language": "python",
   "name": "python3"
  },
  "toc": {
   "base_numbering": 1,
   "nav_menu": {},
   "number_sections": true,
   "sideBar": true,
   "skip_h1_title": true,
   "title_cell": "Table of Contents",
   "title_sidebar": "Contents",
   "toc_cell": false,
   "toc_position": {
    "height": "calc(100% - 180px)",
    "left": "10px",
    "top": "150px",
    "width": "256px"
   },
   "toc_section_display": true,
   "toc_window_display": true
  }
 },
 "nbformat": 4,
 "nbformat_minor": 2
}
